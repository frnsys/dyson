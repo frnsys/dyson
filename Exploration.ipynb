{
 "cells": [
  {
   "cell_type": "code",
   "execution_count": 1,
   "metadata": {},
   "outputs": [
    {
     "name": "stdout",
     "output_type": "stream",
     "text": [
      "dict_keys(['Tailing', 'Processing_Facilities', 'Dumps', 'Active_Mines', 'Artisinal_Mining', 'Smelters', 'Exploration'])\n"
     ]
    }
   ],
   "source": [
    "from main import ee, feats, l8sr\n",
    "print(feats.keys())"
   ]
  },
  {
   "cell_type": "code",
   "execution_count": 2,
   "metadata": {},
   "outputs": [],
   "source": [
    "import ipyleaflet\n",
    "from ipywidgets import HTML\n",
    "\n",
    "# Setup interactive map\n",
    "ee_map = ipyleaflet.Map(zoom=3, layout={'height':'600px'}, scroll_wheel_zoom=True)\n",
    "\n",
    "def GetTileLayerUrl(ee_image_object):\n",
    "    \"\"\"Load tile url from EE for a given image object\"\"\"\n",
    "    map_id = ee.Image(ee_image_object).getMapId()\n",
    "    tile_url_template = \"https://earthengine.googleapis.com/map/{mapid}/{{z}}/{{x}}/{{y}}?token={token}\"\n",
    "    return tile_url_template.format(**map_id)\n",
    "\n",
    "def ResetLayers(map_object):\n",
    "    \"\"\"Clear map overlays\"\"\"\n",
    "    for lyr in map_object.layers[1:]:\n",
    "        map_object.remove_layer(lyr)\n",
    "\n",
    "def AddTileLayer(map_object, ee_image_object):\n",
    "    \"\"\"Add EE tile overlay\"\"\"\n",
    "    tile_url = GetTileLayerUrl(ee_image_object)\n",
    "    map_object.add_layer(ipyleaflet.TileLayer(url=tile_url))\n",
    "\n",
    "def AddPointsLayer(map_object, feats):\n",
    "    \"\"\"Add point features overlay\"\"\"\n",
    "    markers = []\n",
    "    geojson = feats.getInfo()\n",
    "    for feat in geojson['features']:\n",
    "        geo = feat['geometry']\n",
    "        if geo['type'] != 'Point': continue\n",
    "        msg = HTML()\n",
    "        msg.value = feat['properties']['name']\n",
    "        msg.description = feat['properties']['description']\n",
    "        lng, lat = geo['coordinates']\n",
    "        marker = ipyleaflet.Marker(location=(lat, lng), draggable=False)\n",
    "        marker.popup = msg\n",
    "        markers.append(marker)\n",
    "    marker_cluster = ipyleaflet.MarkerCluster(\n",
    "        markers=markers\n",
    "    )\n",
    "    map_object.add_layer(marker_cluster) "
   ]
  },
  {
   "cell_type": "code",
   "execution_count": 3,
   "metadata": {},
   "outputs": [
    {
     "data": {
      "application/vnd.jupyter.widget-view+json": {
       "model_id": "3aa4814e4d264f8abe5939f9722dda97",
       "version_major": 2,
       "version_minor": 0
      },
      "text/plain": [
       "Map(basemap={'url': 'https://{s}.tile.openstreetmap.org/{z}/{x}/{y}.png', 'max_zoom': 19, 'attribution': 'Map …"
      ]
     },
     "metadata": {},
     "output_type": "display_data"
    }
   ],
   "source": [
    "# Visualize points\n",
    "ResetLayers(ee_map)\n",
    "filtered = (\n",
    "    l8sr.filterDate('2016-01-01', '2017-01-01')\n",
    "        .median() # or mean, max, min\n",
    "    \n",
    "        # min=value to map to RGB8 value 0\n",
    "        # max=value to map to RGB8 value 255\n",
    "        .visualize(min=0, max=3000, bands=['red', 'green', 'blue'])\n",
    ")\n",
    "AddTileLayer(ee_map, filtered)\n",
    "AddPointsLayer(ee_map, feats['Active_Mines'])\n",
    "ee_map"
   ]
  },
  {
   "cell_type": "markdown",
   "metadata": {},
   "source": [
    "# References\n",
    "\n",
    "- <https://github.com/tylere/PyDataNYC2017/blob/master/ipynb/satellite_analysis.ipynb>\n",
    "- <https://github.com/tylere/ee-jupyter-examples/blob/master/2%20-%20EE%20101.ipynb>\n",
    "- <https://ipyleaflet.readthedocs.io/en/latest/api_reference/map.html>\n",
    "- <https://github.com/tylere/ee-jupyter-examples/blob/master/4%20-%20Earth%20Engine%20and%20TensorFlow.ipynb>\n",
    "- <https://developers.google.com/earth-engine/api_docs>"
   ]
  }
 ],
 "metadata": {
  "kernelspec": {
   "display_name": "Python 3",
   "language": "python",
   "name": "python3"
  },
  "language_info": {
   "codemirror_mode": {
    "name": "ipython",
    "version": 3
   },
   "file_extension": ".py",
   "mimetype": "text/x-python",
   "name": "python",
   "nbconvert_exporter": "python",
   "pygments_lexer": "ipython3",
   "version": "3.6.6"
  }
 },
 "nbformat": 4,
 "nbformat_minor": 2
}
