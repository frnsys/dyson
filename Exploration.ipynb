{
 "cells": [
  {
   "cell_type": "code",
   "execution_count": 14,
   "metadata": {},
   "outputs": [
    {
     "name": "stdout",
     "output_type": "stream",
     "text": [
      "dict_keys(['Tailing', 'Processing_Facilities', 'Dumps', 'Active_Mines', 'Artisinal_Mining', 'Smelters', 'Exploration'])\n"
     ]
    }
   ],
   "source": [
    "from main import ee, feats\n",
    "print(feats.keys())"
   ]
  },
  {
   "cell_type": "code",
   "execution_count": 19,
   "metadata": {},
   "outputs": [],
   "source": [
    "import ipyleaflet\n",
    "from ipywidgets import HTML\n",
    "\n",
    "# Setup interactive map\n",
    "ee_map = ipyleaflet.Map(zoom=3, layout={'height':'600px'}, scroll_wheel_zoom=True)\n",
    "\n",
    "def GetTileLayerUrl(ee_image_object):\n",
    "    \"\"\"Load tile url from EE for a given image object\"\"\"\n",
    "    map_id = ee.Image(ee_image_object).getMapId()\n",
    "    tile_url_template = \"https://earthengine.googleapis.com/map/{mapid}/{{z}}/{{x}}/{{y}}?token={token}\"\n",
    "    return tile_url_template.format(**map_id)\n",
    "\n",
    "def ResetLayers(map_object):\n",
    "    \"\"\"Clear map overlays\"\"\"\n",
    "    for lyr in map_object.layers[1:]:\n",
    "        map_object.remove_layer(lyr)\n",
    "\n",
    "def AddTileLayer(map_object, ee_image_object):\n",
    "    \"\"\"Add EE tile overlay\"\"\"\n",
    "    tile_url = GetTileLayerUrl(ee_image_object)\n",
    "    map_object.add_layer(ipyleaflet.TileLayer(url=tile_url))\n",
    "\n",
    "def AddPointsLayer(map_object, feats):\n",
    "    \"\"\"Add point features overlay\"\"\"\n",
    "    markers = []\n",
    "    geojson = feats.getInfo()\n",
    "    for feat in geojson['features']:\n",
    "        geo = feat['geometry']\n",
    "        if geo['type'] != 'Point': continue\n",
    "        msg = HTML()\n",
    "        msg.value = feat['properties']['name']\n",
    "        msg.description = feat['properties']['description']\n",
    "        lng, lat = geo['coordinates']\n",
    "        marker = ipyleaflet.Marker(location=(lat, lng), draggable=False)\n",
    "        marker.popup = msg\n",
    "        markers.append(marker)\n",
    "    marker_cluster = ipyleaflet.MarkerCluster(\n",
    "        markers=markers\n",
    "    )\n",
    "    map_object.add_layer(marker_cluster) "
   ]
  },
  {
   "cell_type": "code",
   "execution_count": 16,
   "metadata": {},
   "outputs": [],
   "source": [
    "# Using Landsat 8 Surface Reflectance Tier 1\n",
    "# Resolution of 30m^2\n",
    "# <https://developers.google.com/earth-engine/datasets/catalog/LANDSAT_LC08_C01_T1_SR>\n",
    "l8sr = ee.ImageCollection('LANDSAT/LC08/C01/T1_SR')\n",
    "\n",
    "# Rename band names\n",
    "# (see prev link for reference)\n",
    "band_names = {\n",
    "    'B1': 'ultra_blue',\n",
    "    'B2': 'blue',\n",
    "    'B3': 'green',\n",
    "    'B4': 'red',\n",
    "    'B5': 'nir',\n",
    "    'B6': 'swir_1',\n",
    "    'B7': 'swir_2',\n",
    "    \n",
    "    # Not in this dataset\n",
    "    #'B8': 'pan',\n",
    "    #'B9': 'cirrus',\n",
    "    \n",
    "    'B10': 'tirs_1',\n",
    "    'B11': 'tirs_2',\n",
    "    'sr_aerosol': 'sr_aerosol', \n",
    "    'pixel_qa': 'pixel_qa',\n",
    "    'radsat_qa': 'radsat_qa'\n",
    "}\n",
    "old_names = ee.List(list(band_names.keys()))\n",
    "new_names = ee.List(list(band_names.values()))\n",
    "l8sr = l8sr.select(old_names, new_names)"
   ]
  },
  {
   "cell_type": "code",
   "execution_count": 17,
   "metadata": {},
   "outputs": [],
   "source": [
    "def maskClouds(image):\n",
    "    # Bits 3 and 5 are cloud shadow and cloud, respectively.\n",
    "    cloudShadowBitMask = (1 << 3)\n",
    "    cloudsBitMask = (1 << 5)\n",
    "    \n",
    "    # Get the pixel QA band.\n",
    "    qa = image.select('pixel_qa')\n",
    "    \n",
    "    # Both flags should be set to zero, indicating clear conditions.\n",
    "    mask = qa.bitwiseAnd(cloudShadowBitMask).eq(0).And(qa.bitwiseAnd(cloudsBitMask).eq(0))\n",
    "    return image.updateMask(mask)"
   ]
  },
  {
   "cell_type": "code",
   "execution_count": 20,
   "metadata": {},
   "outputs": [
    {
     "data": {
      "application/vnd.jupyter.widget-view+json": {
       "model_id": "47016139814247fdb08fdae0325a76c4",
       "version_major": 2,
       "version_minor": 0
      },
      "text/plain": [
       "Map(basemap={'url': 'https://{s}.tile.openstreetmap.org/{z}/{x}/{y}.png', 'max_zoom': 19, 'attribution': 'Map …"
      ]
     },
     "metadata": {},
     "output_type": "display_data"
    }
   ],
   "source": [
    "# Visualize points\n",
    "ResetLayers(ee_map)\n",
    "filtered = (\n",
    "    l8sr.filterDate('2016-01-01', '2017-01-01').map(maskClouds)\n",
    "        .median() # or mean, max, min\n",
    "    \n",
    "        # min=value to map to RGB8 value 0\n",
    "        # max=value to map to RGB8 value 255\n",
    "        .visualize(min=0, max=3000, bands=['red', 'green', 'blue'])\n",
    ")\n",
    "AddTileLayer(ee_map, filtered)\n",
    "AddPointsLayer(ee_map, feats['Active_Mines'])\n",
    "ee_map"
   ]
  },
  {
   "cell_type": "markdown",
   "metadata": {},
   "source": [
    "# Classification\n",
    "\n",
    "- <https://developers.google.com/earth-engine/classification>"
   ]
  },
  {
   "cell_type": "code",
   "execution_count": null,
   "metadata": {},
   "outputs": [],
   "source": [
    "# Set class labels\n",
    "feats = {k: fc.map(lambda f: f.set('class', i)) for i, (k, fc) in enumerate(feats.items())}\n",
    "\n",
    "# Num examples\n",
    "sum(fc.size().getInfo() for fc in feats.values())"
   ]
  },
  {
   "cell_type": "code",
   "execution_count": null,
   "metadata": {},
   "outputs": [],
   "source": [
    "# Datasets\n",
    "fc1 = feats['Active_Mines'].map(lambda f: f.set('class', 0))\n",
    "fc2 = feats['Processing_Facilities'].map(lambda f: f.set('class', 1))\n",
    "points = fc1.merge(fc2)\n",
    "points.size().getInfo()"
   ]
  },
  {
   "cell_type": "code",
   "execution_count": null,
   "metadata": {},
   "outputs": [],
   "source": [
    "# Get image collection w/in the bounds of these points\n",
    "ic = l8sr.filter(ee.Filter.geometry(points.geometry()))\n",
    "ic.size().getInfo()"
   ]
  },
  {
   "cell_type": "code",
   "execution_count": null,
   "metadata": {},
   "outputs": [],
   "source": [
    "# Reduce image\n",
    "im = ic.median()"
   ]
  },
  {
   "cell_type": "code",
   "execution_count": null,
   "metadata": {},
   "outputs": [],
   "source": [
    "im_viz = im.visualize(min=0, max=3000, bands=['B4', 'B3', 'B2'])\n",
    "ResetLayers(ee_map)\n",
    "AddTileLayer(ee_map, im_viz)\n",
    "ee_map"
   ]
  },
  {
   "cell_type": "code",
   "execution_count": null,
   "metadata": {},
   "outputs": [],
   "source": [
    "# Use these bands for prediction.\n",
    "bands = ['B2', 'B3', 'B4', 'B5', 'B6', 'B7', 'B10', 'B11']\n",
    "im = im.select(bands)\n",
    "\n",
    "# Overlay the points on the imagery to get training.\n",
    "training = im.sampleRegions(collection=points, properties=['class'], scale=30)\n",
    "\n",
    "# Train a CART classifier with default parameters.\n",
    "trained = ee.Classifier.cart().train(training, 'class', bands)\n",
    "\n",
    "# Classify the image with the same bands used for training.\n",
    "classified = image.select(bands).classify(trained)"
   ]
  },
  {
   "cell_type": "code",
   "execution_count": null,
   "metadata": {
    "scrolled": true
   },
   "outputs": [],
   "source": [
    "cl_viz = classified.visualize(min=0, max=1, bands=['classification'], palette=['00FF00', 'FF0000'])\n",
    "ResetLayers(ee_map)\n",
    "AddTileLayer(ee_map, cl_viz)\n",
    "ee_map"
   ]
  },
  {
   "cell_type": "markdown",
   "metadata": {},
   "source": [
    "---\n",
    "\n",
    "# Learning"
   ]
  },
  {
   "cell_type": "code",
   "execution_count": null,
   "metadata": {},
   "outputs": [],
   "source": [
    "# \"Landsat 8 image collection\n",
    "# which has been processed to surface reflectance values\n",
    "# (i.e. the processing has attempted to remove the atmospheric effects).\"\n",
    "l8sr = ee.ImageCollection('LANDSAT/LC08/C01/T1_SR')\n",
    "\n",
    "sample_image = ee.Image(\n",
    "    l8sr.filterDate('2017-11-01', '2017-12-01')\n",
    "        .filterBounds(ee.Geometry.Point(-73.9957, 40.7262))\n",
    "        .first()\n",
    ")\n",
    "band_names_original = sample_image.bandNames()\n",
    "\n",
    "l8_bands = ee.Dictionary({\n",
    "    'B1': 'ultra_blue',\n",
    "    'B2': 'blue',\n",
    "    'B3': 'green',\n",
    "    'B4': 'red',\n",
    "    'B5': 'nir',\n",
    "    'B6': 'swir_1',\n",
    "    'B7': 'swir_2',\n",
    "    'B8': 'pan',\n",
    "    'B9': 'cirrus',\n",
    "    'B10': 'tirs_1',\n",
    "    'B11': 'tirs_2',\n",
    "    'sr_aerosol': 'sr_aerosol', \n",
    "    'pixel_qa': 'pixel_qa',\n",
    "    'radsat_qa': 'radsat_qa'\n",
    "})\n",
    "band_names_new = l8_bands.values(sample_image.bandNames())\n",
    "l8sr = l8sr.select(band_names_original, band_names_new)"
   ]
  },
  {
   "cell_type": "code",
   "execution_count": null,
   "metadata": {},
   "outputs": [],
   "source": [
    "ResetLayers(ee_map)"
   ]
  },
  {
   "cell_type": "code",
   "execution_count": null,
   "metadata": {},
   "outputs": [],
   "source": [
    "filtered = (\n",
    "    l8sr.filterDate('2017-01-01', '2017-01-02')\n",
    "        .median()\n",
    "#         .mean()\n",
    "#         .max()\n",
    "#         .min()\n",
    "#         .reduce(ee.Reducer.percentile([25])).rename(band_names_new)\n",
    "        .visualize(min=0, max=3000, bands=['red', 'green', 'blue'])\n",
    ")\n",
    "AddTileLayer(ee_map, filtered)"
   ]
  },
  {
   "cell_type": "markdown",
   "metadata": {},
   "source": [
    "# References\n",
    "\n",
    "- <https://github.com/tylere/PyDataNYC2017/blob/master/ipynb/satellite_analysis.ipynb>\n",
    "- <https://github.com/tylere/ee-jupyter-examples/blob/master/2%20-%20EE%20101.ipynb>\n",
    "- <https://ipyleaflet.readthedocs.io/en/latest/api_reference/map.html>\n",
    "- <https://github.com/tylere/ee-jupyter-examples/blob/master/4%20-%20Earth%20Engine%20and%20TensorFlow.ipynb>\n",
    "- <https://developers.google.com/earth-engine/api_docs>"
   ]
  }
 ],
 "metadata": {
  "kernelspec": {
   "display_name": "Python 3",
   "language": "python",
   "name": "python3"
  },
  "language_info": {
   "codemirror_mode": {
    "name": "ipython",
    "version": 3
   },
   "file_extension": ".py",
   "mimetype": "text/x-python",
   "name": "python",
   "nbconvert_exporter": "python",
   "pygments_lexer": "ipython3",
   "version": "3.6.6"
  }
 },
 "nbformat": 4,
 "nbformat_minor": 2
}
